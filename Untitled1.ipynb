{
 "cells": [
  {
   "cell_type": "code",
   "execution_count": 11,
   "metadata": {},
   "outputs": [],
   "source": [
    "import pandas as pd\n",
    "import numpy as np \n",
    "import matplotlib.pyplot as plt\n",
    "\n",
    "def permutation_sample(d1, d2):\n",
    "    \"\"\"Generate a permutation sample from two arrays\"\"\"\n",
    "\n",
    "    # Concatenate arrays: data\n",
    "    data = np.concatenate((d1, d2))\n",
    "\n",
    "    # Permute the concatenated array: permuted data\n",
    "    p_data = np.random.permutation(data)\n",
    "\n",
    "    # Split the permuted array into two\n",
    "    perm_s_1 = p_data[:len(d1)]\n",
    "    perm_s_2 = p_data[len(d1):]\n",
    "\n",
    "    return perm_s_1, perm_s_2\n",
    "\n",
    "def draw_perm_reps(data_1, data_2, func, size=1):\n",
    "    \"\"\"Generate multiple permutation replicates.\"\"\"\n",
    "\n",
    "    # Initialize array of replicates: perm_replicates\n",
    "    perm_replicates = np.empty(size)\n",
    "\n",
    "    for i in range(size):\n",
    "        # Generate permutation sample\n",
    "        perm_sample_1, perm_sample_2 = permutation_sample(data_1,data_2)\n",
    "\n",
    "        # Compute the test statistic\n",
    "        perm_replicates[i] = func(perm_sample_1, perm_sample_2)\n",
    "\n",
    "    return perm_replicates\n",
    "\n",
    "def diff_of_means(data_1, data_2):\n",
    "    \"\"\"Difference in means of two arrays.\"\"\"\n",
    "\n",
    "    # The difference of means of data_1, data_2: diff\n",
    "    diff = np.mean(data_1) - np.mean(data_2)\n",
    "\n",
    "    return diff\n",
    "\n",
    "def bootstrap_replicate_1d(data, func):\n",
    "    \"\"\"Generate bootstrap replicate of 1D data.\"\"\"\n",
    "    bs_sample = np.random.choice(data, len(data))\n",
    "    return func(bs_sample)\n",
    "\n",
    "def draw_bs_reps(data, func, size=1):\n",
    "    \"\"\"Draw bootstrap replicates.\"\"\"\n",
    "\n",
    "    # Initialize array of replicates: bs_replicates\n",
    "    bs_replicates = np.empty(size)\n",
    "\n",
    "    # Generate replicates\n",
    "    for i in range(size):\n",
    "        bs_replicates[i] = bootstrap_replicate_1d(data,func)\n",
    "\n",
    "    return bs_replicates\n"
   ]
  },
  {
   "cell_type": "code",
   "execution_count": 19,
   "metadata": {},
   "outputs": [],
   "source": [
    "X=pd.read_excel('statistics.xlsx')\n",
    "Y=pd.DataFrame(X)\n",
    "a,b = Y['TNF-induced'], Y['Control']\n",
    "permutation_sample(a,b)\n",
    "a=a[np.logical_not(np.isnan(a))]\n",
    "b=b[np.logical_not(np.isnan(b))]"
   ]
  },
  {
   "cell_type": "code",
   "execution_count": 35,
   "metadata": {},
   "outputs": [],
   "source": [
    "empirical_difference= -1*diff_of_means(a,b)\n",
    "perm_replicates = draw_perm_reps(a,b, diff_of_means, size=10000)\n",
    "p = np.sum(perm_replicates >= empirical_difference) / len(perm_replicates)"
   ]
  },
  {
   "cell_type": "code",
   "execution_count": 36,
   "metadata": {},
   "outputs": [
    {
     "name": "stdout",
     "output_type": "stream",
     "text": [
      "empirical difference= 68.66515667808812 p-value= 0.0\n"
     ]
    }
   ],
   "source": [
    "print('empirical difference=',empirical_difference, 'p-value=',p)"
   ]
  },
  {
   "cell_type": "code",
   "execution_count": 38,
   "metadata": {},
   "outputs": [
    {
     "name": "stdout",
     "output_type": "stream",
     "text": [
      "[55.92972976 80.82134836]\n"
     ]
    }
   ],
   "source": [
    "bs_replicates_TNF = draw_bs_reps(a, np.mean, 10000)\n",
    "bs_replicates_control = draw_bs_reps(b, np.mean, 10000)\n",
    "diff=-1*(bs_replicates_TNF-bs_replicates_control)\n",
    "BS_CI=np.percentile(diff,[2.5,97.5])\n",
    "print(BS_CI)"
   ]
  },
  {
   "cell_type": "code",
   "execution_count": null,
   "metadata": {},
   "outputs": [],
   "source": []
  },
  {
   "cell_type": "code",
   "execution_count": null,
   "metadata": {},
   "outputs": [],
   "source": []
  }
 ],
 "metadata": {
  "kernelspec": {
   "display_name": "Python 3",
   "language": "python",
   "name": "python3"
  },
  "language_info": {
   "codemirror_mode": {
    "name": "ipython",
    "version": 3
   },
   "file_extension": ".py",
   "mimetype": "text/x-python",
   "name": "python",
   "nbconvert_exporter": "python",
   "pygments_lexer": "ipython3",
   "version": "3.8.5"
  }
 },
 "nbformat": 4,
 "nbformat_minor": 4
}
